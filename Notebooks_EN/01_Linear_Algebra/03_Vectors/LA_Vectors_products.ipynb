{
  "cells": [
    {
      "cell_type": "markdown",
      "metadata": {
        "id": "BV_PvVMr9I4R"
      },
      "source": [
        "# Vectors - Scalar, Vector, Mixed Products\n",
        "\n",
        "## Scalar Product\n",
        "\n",
        "The scalar product (also called the dot product) of two vectors is an operation that returns a scalar value. It is defined as the sum of the products of the corresponding components of two vectors.\n",
        "\n",
        "For two vectors $\\mathbf{a}$ and $\\mathbf{b}$ in the space $\\mathbb{R}^n$, where:\n",
        "\n",
        "$$\n",
        "\\mathbf{a} = [a_1, a_2, \\dots, a_n], \\quad \\mathbf{b} = [b_1, b_2, \\dots, b_n]\n",
        "$$\n",
        "\n",
        "The scalar product is defined as follows:\n",
        "\n",
        "$$\n",
        "\\mathbf{a} \\cdot \\mathbf{b} = a_1b_1 + a_2b_2 + \\dots + a_nb_n = \\sum_{i=1}^{n} a_i b_i\n",
        "$$\n",
        "\n",
        "Example for three-dimensional space ($ \\mathbb{R}^3 $):\n",
        "\n",
        "For vectors $\\mathbf{a} = [a_1, a_2, a_3]$ and $\\mathbf{b} = [b_1, b_2, b_3]$, the scalar product is:\n",
        "\n",
        "$$\n",
        "\\mathbf{a} \\cdot \\mathbf{b} = a_1b_1 + a_2b_2 + a_3b_3\n",
        "$$\n",
        "\n",
        "The scalar product returns a number that measures the \"similarity of direction\" between two vectors. If $\\mathbf{a} \\cdot \\mathbf{b} = 0$, the vectors are perpendicular.\n",
        "\n",
        "Alternatively, the scalar product can be expressed as:\n",
        "\n",
        "$$\n",
        "\\mathbf{a} \\cdot \\mathbf{b} = \\|\\mathbf{a}\\| \\|\\mathbf{b}\\| \\cos(\\theta),\n",
        "$$\n",
        "which is the product of the magnitudes of vectors $\\mathbf{a}$ and $\\mathbf{b}$ multiplied by the cosine of the angle between them.\n",
        "\n",
        "## Vector Product\n",
        "\n",
        "The vector product (also called the cross product) is an operation that returns a new vector perpendicular to the two input vectors. It is defined only in three-dimensional space $ \\mathbb{R}^3 $.\n",
        "\n",
        "For two vectors $ \\mathbf{a} = [a_1, a_2, a_3] $ and $ \\mathbf{b} = [b_1, b_2, b_3] $, the vector product $ \\mathbf{a} \times \\mathbf{b} $ is defined as:\n",
        "\n",
        "$$ \\mathbf{a} \t\\times \\mathbf{b} =\n",
        "\\begin{vmatrix}\n",
        "\\mathbf{i} & \\mathbf{j} & \\mathbf{k} \\\\\n",
        "a_1 & a_2 & a_3 \\\\\n",
        "b_1 & b_2 & b_3\n",
        "\\end{vmatrix}\n",
        "$$\n",
        "\n",
        "Where $ \\mathbf{i}, \\mathbf{j}, \\mathbf{k} $ are unit vectors along the $ x, y, z $ axes. Interestingly, to calculate the vector product and obtain the resulting vector, we use the determinant (a scalar) of the matrix (a second-order tensor) whose rows are the basis vectors (vectors) and the components of the vectors (scalars).\n",
        "\n",
        "The vector product can be expressed in expanded form:\n",
        "\n",
        "$$ \\mathbf{a} \t\\times \\mathbf{b} = \\left( a_2b_3 - a_3b_2 \\right)\\mathbf{i} - \\left( a_1b_3 - a_3b_1 \\right)\\mathbf{j} + \\left( a_1b_2 - a_2b_1 \\right)\\mathbf{k} $$\n",
        "\n",
        "The result of the vector product is a new vector:\n",
        "\n",
        "$$ \\mathbf{c} = \\mathbf{a} \t\\times \\mathbf{b} = [a_2b_3 - a_3b_2, a_3b_1 - a_1b_3, a_1b_2 - a_2b_1] $$\n",
        "\n",
        "The vector product returns a vector $\\mathbf{c}$ perpendicular to the plane defined by $ \\mathbf{a} $ and $ \\mathbf{b} $, and its magnitude is equal to the area of the parallelogram whose sides are defined by the vectors $ \\mathbf{a} $ and $ \\mathbf{b} $\n",
        "$$\n",
        "|\\mathbf{c}| = |\\mathbf{a}| |\\mathbf{b}| \\sin \\theta\n",
        "$$\n",
        "\n",
        "where $\theta$ is the angle between the vectors. The direction of vector $\\vec{c}$ is determined by the right-hand rule.\n",
        "\n",
        "## Mixed Product\n",
        "\n",
        "The mixed product of three vectors $\\mathbf{a}, \\mathbf{b}, \\mathbf{c}$ is defined as:\n",
        "\n",
        "$$\n",
        "\\mathbf{a} \\cdot \\left( \\mathbf{b} \\times \\mathbf{c} \\right)\n",
        "$$\n",
        "\n",
        "This is equivalent to the scalar product $\\mathbf{a} \\times \\left( \\mathbf{b} \\times \\mathbf{c} \\right)$.\n",
        "\n",
        "The mixed product is equal to zero if the vectors $\\mathbf{a}, \\mathbf{b}, \\mathbf{c}$ are collinear or parallel.\n",
        "\n",
        "The volume of the parallelepiped defined by three vectors $\\mathbf{a}, \\mathbf{b}, \\mathbf{c}$ is equal to the absolute value of the mixed product of these vectors.\n",
        "\n",
        "## Implementation"
      ]
    },
    {
      "cell_type": "code",
      "execution_count": 1,
      "metadata": {
        "id": "rvPKNfid9I4U"
      },
      "outputs": [],
      "source": [
        "import sympy as sp\n",
        "# Vector definitions\n",
        "a = sp.Matrix([1, 2, 3])\n",
        "b = sp.Matrix([4, 5, 6])\n",
        "c = sp.Matrix([7, 0, 9])\n",
        "d = sp.Matrix([0, 2, 0])"
      ]
    },
    {
      "cell_type": "code",
      "execution_count": 2,
      "metadata": {
        "id": "meKGtwV-9I4W",
        "outputId": "0ecfa9bb-9d18-4473-f87d-f3d3bd6bef9f",
        "colab": {
          "base_uri": "https://localhost:8080/",
          "height": 78
        }
      },
      "outputs": [
        {
          "data": {
            "text/latex": "$\\displaystyle \\left[\\begin{matrix}7\\\\0\\\\9\\end{matrix}\\right]$",
            "text/plain": [
              "Matrix([\n",
              "[7],\n",
              "[0],\n",
              "[9]])"
            ]
          },
          "execution_count": 2,
          "metadata": {},
          "output_type": "execute_result"
        }
      ],
      "source": [
        "# Display vector c\n",
        "c"
      ]
    },
    {
      "cell_type": "code",
      "execution_count": 3,
      "metadata": {
        "id": "__FqHe0g9I4X",
        "outputId": "92185255-a9c3-4d76-8ab2-804318835598",
        "colab": {
          "base_uri": "https://localhost:8080/",
          "height": 78
        }
      },
      "outputs": [
        {
          "data": {
            "text/latex": "$\\displaystyle \\left[\\begin{matrix}5\\\\7\\\\9\\end{matrix}\\right]$",
            "text/plain": [
              "Matrix([\n",
              "[5],\n",
              "[7],\n",
              "[9]])"
            ]
          },
          "execution_count": 3,
          "metadata": {},
          "output_type": "execute_result"
        }
      ],
      "source": [
        "# Adding vectors a and b\n",
        "a + b"
      ]
    },
    {
      "cell_type": "code",
      "execution_count": 4,
      "metadata": {
        "id": "_74-8iCb9I4Y",
        "outputId": "df5e54a5-e184-44b6-d5bf-1e8d0a38fb47",
        "colab": {
          "base_uri": "https://localhost:8080/"
        }
      },
      "outputs": [
        {
          "data": {
            "text/plain": [
              "True"
            ]
          },
          "execution_count": 4,
          "metadata": {},
          "output_type": "execute_result"
        }
      ],
      "source": [
        "# Dot product of a and b\n",
        "(1*4 + 2*5 + 3*6) == a.dot(b)"
      ]
    },
    {
      "cell_type": "code",
      "execution_count": 5,
      "metadata": {
        "id": "GwnZ8jtg9I4Y",
        "outputId": "9aa92f0e-17d4-4a4d-dbf8-9e3f71b599ba",
        "colab": {
          "base_uri": "https://localhost:8080/"
        }
      },
      "outputs": [
        {
          "data": {
            "text/plain": [
              "True"
            ]
          },
          "execution_count": 5,
          "metadata": {},
          "output_type": "execute_result"
        }
      ],
      "source": [
        "# Cross product of a and c\n",
        "# a = [1, 2, 3]\n",
        "# c = [7, 0, 9]\n",
        "\n",
        "# As an aid, write the vectors as 3x3 matrices\n",
        "# i, j, k\n",
        "# 1, 2, 3\n",
        "# 7, 0, 9\n",
        "\n",
        "# Now\n",
        "comp1 = (2*9 - 3*0)\n",
        "comp2 = -(1*9 - 3*7)\n",
        "comp3 = (1*0 - 2*7)\n",
        "\n",
        "# Result\n",
        "sp.Matrix([comp1, comp2, comp3]) == a.cross(c)"
      ]
    },
    {
      "cell_type": "code",
      "execution_count": 6,
      "metadata": {
        "id": "D9fDiAr79I4Z",
        "outputId": "6ac6f74e-54c6-412f-92d6-03a2e4c420c0",
        "colab": {
          "base_uri": "https://localhost:8080/"
        }
      },
      "outputs": [
        {
          "data": {
            "text/plain": [
              "True"
            ]
          },
          "execution_count": 6,
          "metadata": {},
          "output_type": "execute_result"
        }
      ],
      "source": [
        "# Perpendicularity of vectors\n",
        "# c = [7, 0, 9]\n",
        "# d = [0, 2, 0]\n",
        "\n",
        "# If the dot product of vectors is equal to 0, they are perpendicular\n",
        "dot_product = 7*0 + 0*2 + 9*0\n",
        "dot_product == 0"
      ]
    },
    {
      "cell_type": "markdown",
      "metadata": {
        "id": "2BJZzRue9I4a"
      },
      "source": [
        "## Applications\n",
        "\n",
        "### Calculating the Angle Between Vectors\n",
        "\n",
        "$$\n",
        "\\cos \\theta = \\frac{\\mathbf{a} \\cdot \\mathbf{b}}{\\|\\mathbf{a}\\| \\|\\mathbf{b}\\|}\n",
        "$$\n",
        "\n",
        "### Checking Vector Perpendicularity\n",
        "\n",
        "Vectors $\\mathbf{a}$ and $\\mathbf{b}$ are perpendicular if their dot product is zero:\n",
        "$$\n",
        "\\mathbf{a} \\cdot \\mathbf{b} = 0\n",
        "\\quad \\Leftrightarrow \\quad\n",
        " \\mathbf{a} \\perp \\mathbf{b}\n",
        "$$\n",
        "\n",
        "### Finding Projections of Vectors onto Other Vectors\n",
        "\n",
        "$$\n",
        "\\text{Projection} = \\frac{\\mathbf{a} \\cdot \\mathbf{b}}{\\|\\mathbf{b}\\|}\n",
        "$$\n",
        "\n",
        "### Calculating Work Done by a Force in Physics\n",
        "\n",
        "For a force $\\mathbf{F} = (F_x, F_y, F_z)$ acting along a displacement $\\mathbf{d} = (d_x, d_y, d_z)$, work is calculated as:\n",
        "\n",
        "$$\n",
        "W = \\mathbf{F} \\cdot \\mathbf{d} = |\\mathbf{F}| |\\mathbf{d}| \\cos \\theta = F_x d_x + F_y d_y + F_z d_z\n",
        "$$\n",
        "\n",
        "### Torque\n",
        "\n",
        "In physics: torque is the vector product of the force vector and the arm of the force:\n",
        "\n",
        "$$\n",
        "\\mathbf{M} = \\mathbf{r} \\times \\mathbf{F}\n",
        "$$\n",
        "\n",
        "### Calculating the Area of a Parallelogram\n",
        "\n",
        "The area of a parallelogram spanned by two vectors:\n",
        "\n",
        "$$\n",
        "\\text{Area}_{r} = \\mathbf{a} \\times \\mathbf{b} = |\\mathbf{a}| |\\mathbf{b}| \\sin \\theta\n",
        "$$\n",
        "\n",
        "### Calculating the Area of a Triangle\n",
        "\n",
        "The area of a triangle spanned by two vectors $\\mathbf{a}$ and $\\mathbf{b}$:\n",
        "\n",
        "$$\n",
        "\\text{Area}_{t} = \\frac{1}{2} |\\mathbf{a} \\times \\mathbf{b}|\n",
        "$$\n",
        "\n",
        "### Calculating the Volume of Parallelepipeds and Tetrahedrons\n",
        "\n",
        "The mixed product of vectors is used to calculate the volume of parallelepipeds and tetrahedrons. For three vectors **$\\mathbf{a}$**, **$\\mathbf{b}$**, and **$\\mathbf{c}$**, the volume of the parallelepiped is given by:\n",
        "\n",
        "$$\n",
        "V = |\\mathbf{a} \\cdot (\\mathbf{b} \\times \\mathbf{c})|\n",
        "$$\n",
        "(Note: **| |** here denotes the absolute value, not the magnitude!)\n",
        "\n",
        "### Checking Coplanarity of Three Vectors\n",
        "\n",
        "If the mixed product of three vectors is equal to zero, it means that the vectors are coplanar. Otherwise, they form a tetrahedron.\n",
        "\n",
        "---\n",
        "\n",
        "## Student Exercises\n",
        "\n",
        "A. Perform the addition of vector $[2, 1]$ to vector $[-1, 1]$. Plot both vectors and their sum on a graph.\n",
        "\n",
        "B. Calculate the area of the triangle spanned by vectors $[2, 1]$ and $[-1, 1]$.\n",
        "\n",
        "C. Calculate the volume of the parallelepiped spanned by vectors $[2, 1]$, $[-1, 1]$, and $[1, 2]$.\n",
        "\n",
        "D. Check if vectors $[2, 1]$ and $[-1, 1]$ are perpendicular.\n",
        "\n",
        "E. Calculate the angle in degrees between vectors $[4,2,1]$ and $[1,3,2]$.\n",
        "\n",
        "F. For three-dimensional vectors: $\\mathbf{a}=[a_x, a_y, a_z]$, $\\mathbf{b}=[b_x, b_y, b_z]$, $\\mathbf{c}=[c_x, c_y, c_z]$, prove that the following identity is satisfied:\n",
        "\n",
        "$$\n",
        "\\mathbf{a} \\times (\\mathbf{b} \\times \\mathbf{c}) = (\\mathbf{a} \\cdot \\mathbf{c}) \\mathbf{b} - (\\mathbf{a} \\cdot \\mathbf{b}) \\mathbf{c}.\n",
        "$$"
      ]
    },
    {
      "cell_type": "code",
      "source": [
        "# Exercise A\n",
        "\n",
        "import sympy as sp\n",
        "\n",
        "a = sp.Matrix([2, 1])\n",
        "b = sp.Matrix([-1, 1])\n"
      ],
      "metadata": {
        "id": "SEbKbbK9BuDg"
      },
      "execution_count": 12,
      "outputs": []
    },
    {
      "cell_type": "code",
      "source": [
        "# Vector A\n",
        "a"
      ],
      "metadata": {
        "id": "hcetGCfsC-Ez",
        "outputId": "61196c84-1bd1-4298-a7ba-71af2aebe2b8",
        "colab": {
          "base_uri": "https://localhost:8080/",
          "height": 58
        }
      },
      "execution_count": 13,
      "outputs": [
        {
          "output_type": "execute_result",
          "data": {
            "text/plain": [
              "Matrix([\n",
              "[2],\n",
              "[1]])"
            ],
            "text/latex": "$\\displaystyle \\left[\\begin{matrix}2\\\\1\\end{matrix}\\right]$"
          },
          "metadata": {},
          "execution_count": 13
        }
      ]
    },
    {
      "cell_type": "code",
      "source": [
        "# Vector B\n",
        "b"
      ],
      "metadata": {
        "id": "ZY3XfmBiDC2f",
        "outputId": "b6f73d8e-c030-4fd7-9cc8-7f4b7d2720ef",
        "colab": {
          "base_uri": "https://localhost:8080/",
          "height": 58
        }
      },
      "execution_count": 14,
      "outputs": [
        {
          "output_type": "execute_result",
          "data": {
            "text/plain": [
              "Matrix([\n",
              "[-1],\n",
              "[ 1]])"
            ],
            "text/latex": "$\\displaystyle \\left[\\begin{matrix}-1\\\\1\\end{matrix}\\right]$"
          },
          "metadata": {},
          "execution_count": 14
        }
      ]
    },
    {
      "cell_type": "code",
      "source": [
        "# Adding vectors a and b\n",
        "a + b"
      ],
      "metadata": {
        "id": "y7fsfto9DRpI",
        "outputId": "e2c7fc26-b04f-41c8-baa8-bcc4cb4a7211",
        "colab": {
          "base_uri": "https://localhost:8080/",
          "height": 58
        }
      },
      "execution_count": 15,
      "outputs": [
        {
          "output_type": "execute_result",
          "data": {
            "text/plain": [
              "Matrix([\n",
              "[1],\n",
              "[2]])"
            ],
            "text/latex": "$\\displaystyle \\left[\\begin{matrix}1\\\\2\\end{matrix}\\right]$"
          },
          "metadata": {},
          "execution_count": 15
        }
      ]
    },
    {
      "cell_type": "code",
      "source": [
        "import matplotlib.pyplot as plt\n",
        "\n",
        "plt.figure()\n",
        "plt.quiver(0, 0, 2, 1, angles='xy', scale_units='xy', scale=1, color='y')\n",
        "plt.quiver(0, 0, -1, 1, angles='xy', scale_units='xy', scale=1, color='r')\n",
        "plt.quiver(0, 0, 1, 2, angles='xy', scale_units='xy', scale=1, color='b')\n",
        "plt.xlim(-2, 3)\n",
        "plt.ylim(0, 3)\n",
        "plt.grid(True)\n",
        "plt.gca().set_aspect('equal')\n",
        "plt.show()"
      ],
      "metadata": {
        "id": "aLKDjUyZDZWy",
        "outputId": "663363de-5030-4c5b-eb2c-026a78e24e76",
        "colab": {
          "base_uri": "https://localhost:8080/",
          "height": 363
        }
      },
      "execution_count": 24,
      "outputs": [
        {
          "output_type": "display_data",
          "data": {
            "text/plain": [
              "<Figure size 640x480 with 1 Axes>"
            ],
            "image/png": "[encoded data removed]"
          },
          "metadata": {}
        }
      ]
    },
    {
      "cell_type": "code",
      "source": [
        "# Exercise B\n",
        "\n",
        "import sympy as sp\n",
        "\n",
        "a = sp.Matrix([2, 1, 0])\n",
        "b = sp.Matrix([-1, 1, 0])\n",
        "\n",
        "# i j k\n",
        "# 2 1 0\n",
        "#-1 1 0\n"
      ],
      "metadata": {
        "id": "DV4O0kBSGRa4"
      },
      "execution_count": 34,
      "outputs": []
    },
    {
      "cell_type": "code",
      "source": [
        "# Vector A\n",
        "a"
      ],
      "metadata": {
        "id": "5yaG0vMyGWIr",
        "outputId": "82d14d96-a773-480e-bbce-c0e10d2a7095",
        "colab": {
          "base_uri": "https://localhost:8080/",
          "height": 78
        }
      },
      "execution_count": 35,
      "outputs": [
        {
          "output_type": "execute_result",
          "data": {
            "text/plain": [
              "Matrix([\n",
              "[2],\n",
              "[1],\n",
              "[0]])"
            ],
            "text/latex": "$\\displaystyle \\left[\\begin{matrix}2\\\\1\\\\0\\end{matrix}\\right]$"
          },
          "metadata": {},
          "execution_count": 35
        }
      ]
    },
    {
      "cell_type": "code",
      "source": [
        "# Vector B\n",
        "b"
      ],
      "metadata": {
        "id": "l-Rtc9VCGYSn",
        "outputId": "51c4da35-9614-4934-a1ca-f05ba5a30980",
        "colab": {
          "base_uri": "https://localhost:8080/",
          "height": 78
        }
      },
      "execution_count": 36,
      "outputs": [
        {
          "output_type": "execute_result",
          "data": {
            "text/plain": [
              "Matrix([\n",
              "[-1],\n",
              "[ 1],\n",
              "[ 0]])"
            ],
            "text/latex": "$\\displaystyle \\left[\\begin{matrix}-1\\\\1\\\\0\\end{matrix}\\right]$"
          },
          "metadata": {},
          "execution_count": 36
        }
      ]
    },
    {
      "cell_type": "code",
      "source": [
        "##cross (a x b)\n",
        "cross_product = a.cross(b)\n",
        "cross_product"
      ],
      "metadata": {
        "id": "uN0BEJM0UGnu",
        "outputId": "aeaf1047-4ced-4fa3-e1a3-8a14ff70f265",
        "colab": {
          "base_uri": "https://localhost:8080/",
          "height": 78
        }
      },
      "execution_count": 39,
      "outputs": [
        {
          "output_type": "execute_result",
          "data": {
            "text/plain": [
              "Matrix([\n",
              "[0],\n",
              "[0],\n",
              "[3]])"
            ],
            "text/latex": "$\\displaystyle \\left[\\begin{matrix}0\\\\0\\\\3\\end{matrix}\\right]$"
          },
          "metadata": {},
          "execution_count": 39
        }
      ]
    },
    {
      "cell_type": "code",
      "source": [
        "#\n",
        "cross = cross_product[2]  # Extract the z-component\n",
        "cross"
      ],
      "metadata": {
        "colab": {
          "base_uri": "https://localhost:8080/",
          "height": 37
        },
        "id": "AQflcBJ4UM52",
        "outputId": "01991a26-add2-4891-c6de-0d581e79258e"
      },
      "execution_count": 44,
      "outputs": [
        {
          "output_type": "execute_result",
          "data": {
            "text/plain": [
              "3"
            ],
            "text/latex": "$\\displaystyle 3$"
          },
          "metadata": {},
          "execution_count": 44
        }
      ]
    },
    {
      "cell_type": "code",
      "source": [
        "# Calculate the area of the triangle\n",
        "\n",
        "#Formula\n",
        "# area = 1/2|a x b|\n",
        "\n",
        "area = sp.Rational(1, 2) * abs(cross)\n",
        "area"
      ],
      "metadata": {
        "id": "3_mKz2w8USSx",
        "outputId": "6db4c751-9392-4ff3-c43f-23720c1ca6b1",
        "colab": {
          "base_uri": "https://localhost:8080/",
          "height": 51
        }
      },
      "execution_count": 45,
      "outputs": [
        {
          "output_type": "execute_result",
          "data": {
            "text/plain": [
              "3/2"
            ],
            "text/latex": "$\\displaystyle \\frac{3}{2}$"
          },
          "metadata": {},
          "execution_count": 45
        }
      ]
    },
    {
      "cell_type": "code",
      "source": [
        "# Exercise C\n",
        "\n",
        "import sympy as sp\n",
        "\n",
        "a = sp.Matrix([2, 1, 0])\n",
        "b = sp.Matrix([-1, 1, 0])\n",
        "c = sp.Matrix([1, 2, 0])\n",
        "\n",
        "# i j k\n",
        "# 2 1 0\n",
        "#-1 1 0\n",
        "\n"
      ],
      "metadata": {
        "id": "EnXuBIqfV20B"
      },
      "execution_count": null,
      "outputs": []
    },
    {
      "cell_type": "code",
      "source": [
        "#Formula\n",
        "# V = |a*(b x c)|\n",
        "\n",
        "#cross (b x c)\n",
        "cross_product = b.cross(c)\n",
        "cross_product"
      ],
      "metadata": {
        "id": "Co3Y3xSSW8KQ",
        "outputId": "714b61f1-945f-4965-b7f8-f29cb3dbc6c4",
        "colab": {
          "base_uri": "https://localhost:8080/",
          "height": 78
        }
      },
      "execution_count": 46,
      "outputs": [
        {
          "output_type": "execute_result",
          "data": {
            "text/plain": [
              "Matrix([\n",
              "[ 9],\n",
              "[ 9],\n",
              "[-7]])"
            ],
            "text/latex": "$\\displaystyle \\left[\\begin{matrix}9\\\\9\\\\-7\\end{matrix}\\right]$"
          },
          "metadata": {},
          "execution_count": 46
        }
      ]
    },
    {
      "cell_type": "code",
      "source": [
        "# V = |a * (cross_product)|\n",
        "\n",
        "# v = | 2 |   | 9 |\n",
        "#     | 1 | . | 9 |\n",
        "#     | 0 |   |-7 |\n",
        "\n",
        "\n",
        "product = a.dot(cross_product) # cross product between b x c\n",
        "product"
      ],
      "metadata": {
        "id": "OiF6S456XtAf",
        "outputId": "3f808452-b63f-47a5-db8d-d009785588c4",
        "colab": {
          "base_uri": "https://localhost:8080/",
          "height": 37
        }
      },
      "execution_count": 48,
      "outputs": [
        {
          "output_type": "execute_result",
          "data": {
            "text/plain": [
              "27"
            ],
            "text/latex": "$\\displaystyle 27$"
          },
          "metadata": {},
          "execution_count": 48
        }
      ]
    },
    {
      "cell_type": "code",
      "source": [
        "# V = 27\n",
        "volume = abs(product)\n",
        "volume"
      ],
      "metadata": {
        "id": "U_Tp5TWRZ19O",
        "outputId": "f255b1cd-feb0-438c-e245-f4c355969b13",
        "colab": {
          "base_uri": "https://localhost:8080/",
          "height": 37
        }
      },
      "execution_count": 50,
      "outputs": [
        {
          "output_type": "execute_result",
          "data": {
            "text/plain": [
              "27"
            ],
            "text/latex": "$\\displaystyle 27$"
          },
          "metadata": {},
          "execution_count": 50
        }
      ]
    },
    {
      "cell_type": "code",
      "source": [
        "import sympy as sp\n",
        "\n",
        "# Define the vectors A and B symbolically\n",
        "A = sp.Matrix([2, 1])\n",
        "B = sp.Matrix([-1, 1])\n"
      ],
      "metadata": {
        "id": "5c9ehA71cOfI"
      },
      "execution_count": 52,
      "outputs": []
    },
    {
      "cell_type": "code",
      "source": [
        "# The dot product of A and B\n",
        "dot_product = A.dot(B)\n",
        "dot_product"
      ],
      "metadata": {
        "id": "imVNpYvFcRyZ",
        "outputId": "32a1ffc7-5dce-4107-ed4d-759a934aa639",
        "colab": {
          "base_uri": "https://localhost:8080/",
          "height": 37
        }
      },
      "execution_count": 53,
      "outputs": [
        {
          "output_type": "execute_result",
          "data": {
            "text/plain": [
              "-1"
            ],
            "text/latex": "$\\displaystyle -1$"
          },
          "metadata": {},
          "execution_count": 53
        }
      ]
    },
    {
      "cell_type": "code",
      "source": [
        "# Checking if the dot product is zero\n",
        "\n",
        "# Condition for Perpendicularity\n",
        "# Vectors are perpendicular if their dot product is equal zero. (A.B=0)\n",
        "\n",
        "# The dot product is = -1, so the vector is not perpendicular.\n",
        "\n",
        "if dot_product == 0:\n",
        "    print(\"The vector is perpendicular.\")\n",
        "else:\n",
        "    print(\"The vector is not perpendicular.\")\n"
      ],
      "metadata": {
        "id": "ZlqXvt1Tcf_I",
        "outputId": "d810612a-81b3-4809-c8f5-e8c18e952f5e",
        "colab": {
          "base_uri": "https://localhost:8080/"
        }
      },
      "execution_count": 55,
      "outputs": [
        {
          "output_type": "stream",
          "name": "stdout",
          "text": [
            "The vector is not perpendicular.\n"
          ]
        }
      ]
    },
    {
      "cell_type": "code",
      "source": [
        "# Exercise C\n",
        "\n",
        "A = sp.Matrix([4, 2, 1])\n",
        "B = sp.Matrix([1, 3, 2])\n",
        "\n",
        "# Formula\n",
        "# cos(0) = A.B/ |A||B|\n",
        "# 0 = cos^-1(0)"
      ],
      "metadata": {
        "id": "bTwOxqI3elq2"
      },
      "execution_count": 57,
      "outputs": []
    },
    {
      "cell_type": "code",
      "source": [
        "# calculating the dot product between A.B\n",
        "dot_product = A.dot(B)\n",
        "dot_product"
      ],
      "metadata": {
        "id": "KwszY6bfetW_",
        "outputId": "c5ba5230-4980-432b-b88d-99e9efbfc538",
        "colab": {
          "base_uri": "https://localhost:8080/",
          "height": 37
        }
      },
      "execution_count": 58,
      "outputs": [
        {
          "output_type": "execute_result",
          "data": {
            "text/plain": [
              "12"
            ],
            "text/latex": "$\\displaystyle 12$"
          },
          "metadata": {},
          "execution_count": 58
        }
      ]
    },
    {
      "cell_type": "code",
      "source": [
        "# Formula of length\n",
        "\n",
        "x, y, z = sp.symbols('x y z')\n",
        "magnitude_A = sp.sqrt(x**2 + y**2 + z**2)  # Formula\n",
        "magnitude_B = sp.sqrt(x**2 + y**2 + z**2)  # Formula\n",
        "magnitude_A"
      ],
      "metadata": {
        "id": "xyUfAjWPgPv1",
        "outputId": "e330a6e7-bc4c-492a-a08d-76ffbe1b27e4",
        "colab": {
          "base_uri": "https://localhost:8080/",
          "height": 39
        }
      },
      "execution_count": 71,
      "outputs": [
        {
          "output_type": "execute_result",
          "data": {
            "text/plain": [
              "sqrt(x**2 + y**2 + z**2)"
            ],
            "text/latex": "$\\displaystyle \\sqrt{x^{2} + y^{2} + z^{2}}$"
          },
          "metadata": {},
          "execution_count": 71
        }
      ]
    },
    {
      "cell_type": "code",
      "source": [
        "#For A (length)\n",
        "x = 4\n",
        "y = 2\n",
        "z = 1\n",
        "\n",
        "magnitude_A = sp.sqrt(x**2 + y**2 + z**2)  # Formula\n",
        "magnitude_A"
      ],
      "metadata": {
        "id": "BsfShHythZUz",
        "outputId": "74c10527-028d-41d6-f13c-338fa233e20b",
        "colab": {
          "base_uri": "https://localhost:8080/",
          "height": 39
        }
      },
      "execution_count": 72,
      "outputs": [
        {
          "output_type": "execute_result",
          "data": {
            "text/plain": [
              "sqrt(21)"
            ],
            "text/latex": "$\\displaystyle \\sqrt{21}$"
          },
          "metadata": {},
          "execution_count": 72
        }
      ]
    },
    {
      "cell_type": "code",
      "source": [
        "#For b (length)\n",
        "x = 1\n",
        "y = 3\n",
        "z = 2\n",
        "\n",
        "magnitude_B = sp.sqrt(x**2 + y**2 + z**2)  # Formula\n",
        "magnitude_B"
      ],
      "metadata": {
        "id": "bUWuSJ4ChpT3",
        "outputId": "ebc261ab-db7a-4d50-a6ba-cfa9bb44073d",
        "colab": {
          "base_uri": "https://localhost:8080/",
          "height": 39
        }
      },
      "execution_count": 73,
      "outputs": [
        {
          "output_type": "execute_result",
          "data": {
            "text/plain": [
              "sqrt(14)"
            ],
            "text/latex": "$\\displaystyle \\sqrt{14}$"
          },
          "metadata": {},
          "execution_count": 73
        }
      ]
    },
    {
      "source": [
        "# The cosine of the angle BY using cos(0) = A.B/ |A||B|\n",
        "\n",
        "cos_theta = dot_product / (magnitude_A * magnitude_B)\n",
        "cos_theta_decimal = cos_theta.evalf()\n",
        "cos_theta_decimal"
      ],
      "cell_type": "code",
      "metadata": {
        "id": "fWfs-HW0kJBY",
        "outputId": "37797d1d-7092-451d-8767-4702ff48a034",
        "colab": {
          "base_uri": "https://localhost:8080/",
          "height": 37
        }
      },
      "execution_count": 79,
      "outputs": [
        {
          "output_type": "execute_result",
          "data": {
            "text/plain": [
              "0.699854212223765"
            ],
            "text/latex": "$\\displaystyle 0.699854212223765$"
          },
          "metadata": {},
          "execution_count": 79
        }
      ]
    },
    {
      "source": [
        "#The angle in radians\n",
        "\n",
        "theta_radians = sp.acos(cos_theta)\n",
        "theta_decimal = theta_radians.evalf()\n",
        "theta_decimal"
      ],
      "cell_type": "code",
      "metadata": {
        "id": "TtR-Fh1-lpkD",
        "outputId": "6280f018-b2a9-4d7a-b2ba-0e4661fa8e8c",
        "colab": {
          "base_uri": "https://localhost:8080/",
          "height": 37
        }
      },
      "execution_count": 86,
      "outputs": [
        {
          "output_type": "execute_result",
          "data": {
            "text/plain": [
              "0.795602953484535"
            ],
            "text/latex": "$\\displaystyle 0.795602953484535$"
          },
          "metadata": {},
          "execution_count": 86
        }
      ]
    },
    {
      "cell_type": "code",
      "source": [
        "# The angle from radians to degrees\n",
        "# The angle in degrees is aproximated 45.58 degrees\n",
        "\n",
        "theta_degrees = sp.deg(theta_radians)\n",
        "theta_degrees_decimal = theta_degrees.evalf()\n",
        "theta_degrees_decimal"
      ],
      "metadata": {
        "id": "rfIuTzUAlw56",
        "outputId": "ae814416-eb49-49bc-955e-c3bed8416224",
        "colab": {
          "base_uri": "https://localhost:8080/",
          "height": 37
        }
      },
      "execution_count": 88,
      "outputs": [
        {
          "output_type": "execute_result",
          "data": {
            "text/plain": [
              "45.5846914028070"
            ],
            "text/latex": "$\\displaystyle 45.584691402807$"
          },
          "metadata": {},
          "execution_count": 88
        }
      ]
    }
  ],
  "metadata": {
    "kernelspec": {
      "display_name": "Python 3 (ipykernel)",
      "language": "python",
      "name": "python3",
      "path": "/media/dch/Disk2/Vizja/Math-2024-25-Winter/.venv/share/jupyter/kernels/python3"
    },
    "colab": {
      "provenance": []
    }
  },
  "nbformat": 4,
  "nbformat_minor": 0
}
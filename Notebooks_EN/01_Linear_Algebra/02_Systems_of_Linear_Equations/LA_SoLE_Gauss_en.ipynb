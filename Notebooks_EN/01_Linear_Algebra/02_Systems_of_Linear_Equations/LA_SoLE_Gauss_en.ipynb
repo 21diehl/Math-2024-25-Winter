{
  "cells": [
    {
      "cell_type": "markdown",
      "metadata": {
        "id": "jPm7l7Os7Woj"
      },
      "source": [
        "# Gaussian Elimination Method\n",
        "\n",
        "Solving a system of linear equations using the Gaussian elimination method involves transforming the coefficient matrix of the system into an upper triangular matrix, followed by solving the system using back substitution.\n",
        "\n",
        "This is one of the most fundamental methods for solving systems of linear equations, especially in cases where the number of unknowns is different from the number of equations."
      ]
    },
    {
      "cell_type": "code",
      "execution_count": 1,
      "metadata": {
        "colab": {
          "base_uri": "https://localhost:8080/",
          "height": 152
        },
        "id": "tAnkg23J7Won",
        "outputId": "db7a0dc0-78d7-4f14-98f8-503a8c239fa0"
      },
      "outputs": [
        {
          "output_type": "display_data",
          "data": {
            "text/plain": [
              "<IPython.core.display.Markdown object>"
            ],
            "text/markdown": "**Initial equations:**"
          },
          "metadata": {}
        },
        {
          "output_type": "display_data",
          "data": {
            "text/plain": [
              "<IPython.core.display.Markdown object>"
            ],
            "text/markdown": "System of equations:"
          },
          "metadata": {}
        },
        {
          "output_type": "display_data",
          "data": {
            "text/plain": [
              "<IPython.core.display.Markdown object>"
            ],
            "text/markdown": "$$\\begin{aligned} 1 x_{1} + 2 x_{2} + 3 x_{3} = 10 \\\\ 4 x_{1} + 5 x_{2} + 6 x_{3} = 11 \\\\ 7 x_{1} + 8 x_{2} + 12 x_{3} = 18 \\end{aligned}$$"
          },
          "metadata": {}
        }
      ],
      "source": [
        "from sympy import Matrix, symbols, Eq, latex\n",
        "from IPython.display import display, Markdown\n",
        "import sympy as sp\n",
        "\n",
        "class SymbolicMatrix:\n",
        "    def __init__(self, matrix, column_labels=None, free_terms=None, display_mode=\"table\"):\n",
        "        self.matrix = Matrix(matrix)\n",
        "        self.operations = []\n",
        "        self.display_mode = display_mode\n",
        "\n",
        "        if column_labels:\n",
        "            if len(column_labels) != self.matrix.cols:\n",
        "                raise ValueError(\"The number of column labels must be equal to the number of columns in the matrix.\")\n",
        "            self.column_labels = column_labels\n",
        "        else:\n",
        "            self.column_labels = [f\"x{i+1}\" for i in range(self.matrix.cols)]\n",
        "\n",
        "        if free_terms:\n",
        "            if len(free_terms) != self.matrix.rows:\n",
        "                raise ValueError(\"The number of free terms must be equal to the number of rows in the matrix.\")\n",
        "            self.free_terms = free_terms\n",
        "        else:\n",
        "            self.free_terms = [0 for _ in range(self.matrix.rows)]\n",
        "\n",
        "        display(Markdown(\"**Initial equations:**\"))\n",
        "        self.display_matrix()\n",
        "\n",
        "    def set_display_mode(self, mode):\n",
        "        if mode not in [\"table\", \"equations\"]:\n",
        "            raise ValueError(\"Display mode must be 'table' or 'equations'.\")\n",
        "        self.display_mode = mode\n",
        "\n",
        "    def display_matrix(self):\n",
        "        if self.display_mode == \"table\":\n",
        "            self._display_table()\n",
        "        elif self.display_mode == \"equations\":\n",
        "            self._display_equations()\n",
        "\n",
        "    def _display_table(self):\n",
        "        matrix_with_free_terms = self.matrix.row_join(Matrix(self.free_terms))\n",
        "        headers = self.column_labels + [\"Free term\"]\n",
        "        display(Markdown(self._matrix_to_markdown(matrix_with_free_terms, headers)))\n",
        "\n",
        "    def _matrix_to_markdown(self, matrix, headers):\n",
        "        markdown_str = \"| \" + \" | \".join(headers) + \" |\\n\"\n",
        "        markdown_str += \"| \" + \" | \".join([\"---\"] * len(headers)) + \" |\\n\"\n",
        "        for i in range(matrix.rows):\n",
        "            row = [str(matrix[i, j]) for j in range(matrix.cols)]\n",
        "            markdown_str += \"| \" + \" | \".join(row) + \" |\\n\"\n",
        "        return markdown_str\n",
        "\n",
        "    def _display_equations(self):\n",
        "        equations = []\n",
        "        for i in range(self.matrix.rows):\n",
        "            terms = []\n",
        "            for j in range(self.matrix.cols):\n",
        "                coef = self.matrix[i, j]\n",
        "                var = symbols(self.column_labels[j])\n",
        "\n",
        "                # Check if the coefficient is positive, negative, or zero\n",
        "                if coef > 0:\n",
        "                    if j == 0:\n",
        "                        terms.append(f\"{latex(coef)} {latex(var)}\")\n",
        "                    else:\n",
        "                        terms.append(f\"+ {latex(coef)} {latex(var)}\")\n",
        "                elif coef < 0:\n",
        "                    terms.append(f\"- {latex(abs(coef))} {latex(var)}\")\n",
        "                elif coef == 0:\n",
        "                    if j == 0:\n",
        "                        terms.append(f\"0 {latex(var)}\")\n",
        "                    else:\n",
        "                        terms.append(f\"+0 {latex(var)}\")\n",
        "\n",
        "            lhs = \" \".join(terms)\n",
        "            rhs = latex(self.free_terms[i])\n",
        "\n",
        "            equation = f\"{lhs} = {rhs}\"\n",
        "            equations.append(equation)\n",
        "\n",
        "        display(Markdown(\"System of equations:\"))\n",
        "        display(Markdown(f\"$$\\\\begin{{aligned}} {self._equations_to_latex(equations)} \\\\end{{aligned}}$$\"))\n",
        "\n",
        "    def _equations_to_latex(self, equations):\n",
        "        return \" \\\\\\\\ \".join(equations)\n",
        "\n",
        "    def add_row(self, target_row, source_row, coefficient):\n",
        "        target_idx = self._validate_row_number(target_row)\n",
        "        source_idx = self._validate_row_number(source_row)\n",
        "\n",
        "        # Operation on the matrix\n",
        "        self.matrix.row_op(target_idx, lambda v, j: v + coefficient * self.matrix[source_idx, j])\n",
        "\n",
        "        # Operation on the free terms\n",
        "        self.free_terms[target_idx] += coefficient * self.free_terms[source_idx]\n",
        "\n",
        "        operation_str = f\"r{target_row} = r{target_row} + {coefficient}*r{source_row}\"\n",
        "        self.operations.append(operation_str)\n",
        "        display(Markdown(f\"**Operation:** {operation_str}\"))\n",
        "        self.display_matrix()\n",
        "\n",
        "    def multiply_row(self, row, coefficient):\n",
        "        row_idx = self._validate_row_number(row)\n",
        "\n",
        "        # Operation on the matrix\n",
        "        self.matrix.row_op(row_idx, lambda v, _: coefficient * v)\n",
        "\n",
        "        # Operation on the free terms\n",
        "        self.free_terms[row_idx] *= coefficient\n",
        "\n",
        "        operation_str = f\"r{row} = {coefficient}*r{row}\"\n",
        "        self.operations.append(operation_str)\n",
        "        display(Markdown(f\"**Operation:** {operation_str}\"))\n",
        "        self.display_matrix()\n",
        "\n",
        "    def swap_rows(self, row1, row2):\n",
        "        row1_idx = self._validate_row_number(row1)\n",
        "        row2_idx = self._validate_row_number(row2)\n",
        "\n",
        "        self.matrix.row_swap(row1_idx, row2_idx)\n",
        "        self.free_terms[row1_idx], self.free_terms[row2_idx] = self.free_terms[row2_idx], self.free_terms[row1_idx]\n",
        "\n",
        "        operation_str = f\"Swap r{row1} <-> r{row2}\"\n",
        "        self.operations.append(operation_str)\n",
        "        display(Markdown(f\"**Operation:** {operation_str}\"))\n",
        "        self.display_matrix()\n",
        "\n",
        "    def swap_columns(self, col1, col2):\n",
        "        col1_idx = self._validate_col_number(col1)\n",
        "        col2_idx = self._validate_col_number(col2)\n",
        "\n",
        "        self.matrix.col_swap(col1_idx, col2_idx)\n",
        "        self.column_labels[col1_idx], self.column_labels[col2_idx] = self.column_labels[col2_idx], self.column_labels[col1_idx]\n",
        "\n",
        "        operation_str = f\"Swap col{col1} <-> col{col2}\"\n",
        "        self.operations.append(operation_str)\n",
        "        display(Markdown(f\"**Operation:** {operation_str}\"))\n",
        "        self.display_matrix()\n",
        "\n",
        "    def _validate_row_number(self, row):\n",
        "        if not isinstance(row, int):\n",
        "            raise TypeError(\"Row number must be an integer.\")\n",
        "        if row < 1 or row > self.matrix.rows:\n",
        "            raise IndexError(f\"Row number must be between 1 and {self.matrix.rows}.\")\n",
        "        return row - 1\n",
        "\n",
        "    def _validate_col_number(self, col):\n",
        "        if not isinstance(col, int):\n",
        "            raise TypeError(\"Column number must be an integer.\")\n",
        "        if col < 1 or col > self.matrix.cols:\n",
        "            raise IndexError(f\"Column number must be between 1 and {self.matrix.cols}.\")\n",
        "        return col - 1\n",
        "\n",
        "    def print_operations(self):\n",
        "        display(Markdown(\"**Performed operations:**\"))\n",
        "        for op in self.operations:\n",
        "            print(op)\n",
        "\n",
        "# Example usage:\n",
        "m = SymbolicMatrix([[1,2,3], [4,5,6], [7,8,12]], column_labels=[\"x1\", \"x2\", \"x3\"], free_terms=[10, 11, 18], display_mode=\"equations\")\n"
      ]
    },
    {
      "cell_type": "code",
      "execution_count": 2,
      "metadata": {
        "id": "s9eJcEBK7Wos",
        "outputId": "370b0dc8-321e-45d2-af46-ef01e818c9d5",
        "colab": {
          "base_uri": "https://localhost:8080/",
          "height": 152
        }
      },
      "outputs": [
        {
          "output_type": "display_data",
          "data": {
            "text/plain": [
              "<IPython.core.display.Markdown object>"
            ],
            "text/markdown": "**Operation:** r2 = r2 + -4*r1"
          },
          "metadata": {}
        },
        {
          "output_type": "display_data",
          "data": {
            "text/plain": [
              "<IPython.core.display.Markdown object>"
            ],
            "text/markdown": "System of equations:"
          },
          "metadata": {}
        },
        {
          "output_type": "display_data",
          "data": {
            "text/plain": [
              "<IPython.core.display.Markdown object>"
            ],
            "text/markdown": "$$\\begin{aligned} 1 x_{1} + 2 x_{2} + 3 x_{3} = 10 \\\\ 0 x_{1} - 3 x_{2} - 6 x_{3} = -29 \\\\ 7 x_{1} + 8 x_{2} + 12 x_{3} = 18 \\end{aligned}$$"
          },
          "metadata": {}
        }
      ],
      "source": [
        "m.add_row(2, 1, -4)"
      ]
    },
    {
      "cell_type": "code",
      "execution_count": 3,
      "metadata": {
        "id": "cv1msMdj7Wot",
        "outputId": "dc8aa360-0008-4e61-9336-7ea23b68eff7",
        "colab": {
          "base_uri": "https://localhost:8080/",
          "height": 152
        }
      },
      "outputs": [
        {
          "output_type": "display_data",
          "data": {
            "text/plain": [
              "<IPython.core.display.Markdown object>"
            ],
            "text/markdown": "**Operation:** r3 = r3 + -7*r1"
          },
          "metadata": {}
        },
        {
          "output_type": "display_data",
          "data": {
            "text/plain": [
              "<IPython.core.display.Markdown object>"
            ],
            "text/markdown": "System of equations:"
          },
          "metadata": {}
        },
        {
          "output_type": "display_data",
          "data": {
            "text/plain": [
              "<IPython.core.display.Markdown object>"
            ],
            "text/markdown": "$$\\begin{aligned} 1 x_{1} + 2 x_{2} + 3 x_{3} = 10 \\\\ 0 x_{1} - 3 x_{2} - 6 x_{3} = -29 \\\\ 0 x_{1} - 6 x_{2} - 9 x_{3} = -52 \\end{aligned}$$"
          },
          "metadata": {}
        }
      ],
      "source": [
        "m.add_row(3, 1, -7)"
      ]
    },
    {
      "cell_type": "code",
      "execution_count": 4,
      "metadata": {
        "id": "XtWQuWgK7Wou",
        "outputId": "593c64d3-0918-4f17-c892-226084185a8a",
        "colab": {
          "base_uri": "https://localhost:8080/",
          "height": 152
        }
      },
      "outputs": [
        {
          "output_type": "display_data",
          "data": {
            "text/plain": [
              "<IPython.core.display.Markdown object>"
            ],
            "text/markdown": "**Operation:** r3 = r3 + -2*r2"
          },
          "metadata": {}
        },
        {
          "output_type": "display_data",
          "data": {
            "text/plain": [
              "<IPython.core.display.Markdown object>"
            ],
            "text/markdown": "System of equations:"
          },
          "metadata": {}
        },
        {
          "output_type": "display_data",
          "data": {
            "text/plain": [
              "<IPython.core.display.Markdown object>"
            ],
            "text/markdown": "$$\\begin{aligned} 1 x_{1} + 2 x_{2} + 3 x_{3} = 10 \\\\ 0 x_{1} - 3 x_{2} - 6 x_{3} = -29 \\\\ 0 x_{1} +0 x_{2} + 3 x_{3} = 6 \\end{aligned}$$"
          },
          "metadata": {}
        }
      ],
      "source": [
        "m.add_row(3, 2, -2)"
      ]
    },
    {
      "cell_type": "code",
      "execution_count": 5,
      "metadata": {
        "id": "4hVolBAo7Wov"
      },
      "outputs": [],
      "source": [
        "# We have 3 equations, so we end the operation\n",
        "# Define symbols\n",
        "x1, x2, x3 = symbols('x1 x2 x3')\n",
        "# Define equations\n",
        "eq1 = Eq(x1 + 2*x2 + 3*x3, 10)\n",
        "eq2 = Eq(-3*x2 - 6*x3, -29)\n",
        "eq3 = Eq(3*x3, 6)"
      ]
    },
    {
      "cell_type": "code",
      "execution_count": 6,
      "metadata": {
        "id": "ubSwwBMw7Wow",
        "outputId": "c92ba36d-5dac-44d4-bec2-5d48f9169a79",
        "colab": {
          "base_uri": "https://localhost:8080/",
          "height": 37
        }
      },
      "outputs": [
        {
          "output_type": "execute_result",
          "data": {
            "text/plain": [
              "2"
            ],
            "text/latex": "$\\displaystyle 2$"
          },
          "metadata": {},
          "execution_count": 6
        }
      ],
      "source": [
        "sol_x3 = sp.solve(eq3, x3)[0]\n",
        "sol_x3"
      ]
    },
    {
      "cell_type": "code",
      "execution_count": 7,
      "metadata": {
        "id": "CVZL9lDl7Wow",
        "outputId": "23ad4b25-af7d-4180-aec7-2ce83e8fe45b",
        "colab": {
          "base_uri": "https://localhost:8080/",
          "height": 51
        }
      },
      "outputs": [
        {
          "data": {
            "text/latex": "$\\displaystyle \\frac{17}{3}$",
            "text/plain": [
              "17/3"
            ]
          },
          "execution_count": 7,
          "metadata": {},
          "output_type": "execute_result"
        }
      ],
      "source": [
        "# Substitute solution x3 into equation 2\n",
        "eq2 = eq2.subs(x3, sol_x3)\n",
        "# Solve equation 2\n",
        "sol_x2 = sp.solve(eq2, x2)[0]\n",
        "sol_x2"
      ]
    },
    {
      "cell_type": "code",
      "execution_count": 8,
      "metadata": {
        "id": "Ctlj0vBi7Wox",
        "outputId": "4d0d80e5-6487-4f5e-ada5-a36195b4258d",
        "colab": {
          "base_uri": "https://localhost:8080/",
          "height": 51
        }
      },
      "outputs": [
        {
          "data": {
            "text/latex": "$\\displaystyle - \\frac{22}{3}$",
            "text/plain": [
              "-22/3"
            ]
          },
          "execution_count": 8,
          "metadata": {},
          "output_type": "execute_result"
        }
      ],
      "source": [
        "# Substitute solutions x2 and x3 into equation 1\n",
        "eq1 = eq1.subs({x2: sol_x2, x3: sol_x3})\n",
        "# Solve equation 1\n",
        "sol_x1 = sp.solve(eq1, x1)[0]\n",
        "sol_x1"
      ]
    },
    {
      "cell_type": "markdown",
      "metadata": {
        "id": "eKA1xu3F7Woy"
      },
      "source": [
        "---\n",
        "\n",
        "## Exercises for Students\n",
        "\n",
        "$$\n",
        "\\left\\{\\begin{array}{c}{x+2 y-2 z=4} \\\\ {2 x+y+z=0} \\\\ {3 x+2 y+z=1}\\end{array}\\right.\\quad\n",
        "\\left\\{\\begin{array}{c}{x+y+z-t=2} \\\\ {2 x+y+z=3} \\\\ {-x+z-t=0} \\\\ {3 x+2 y-z+2 t=-1}\\end{array}\\right.\\quad\n",
        "\\left\\{\\begin{array}{c}{x+y-z-t=0} \\\\ {2 x+3 y-2 z+t=4} \\\\ {3 x+5 z=0} \\\\ {-x+y-3 z+2 t=3}\\end{array}\\right.\n",
        "$$"
      ]
    },
    {
      "cell_type": "markdown",
      "metadata": {
        "id": "4D4Yc1lZ7Woz"
      },
      "source": []
    },
    {
      "cell_type": "code",
      "execution_count": 9,
      "metadata": {
        "outputId": "bb86130c-e86c-493c-cad7-2e8f916e5acb",
        "id": "S8DBS0al7rKD",
        "colab": {
          "base_uri": "https://localhost:8080/",
          "height": 152
        }
      },
      "outputs": [
        {
          "data": {
            "text/markdown": "**Initial equations:**",
            "text/plain": [
              "<IPython.core.display.Markdown object>"
            ]
          },
          "metadata": {},
          "output_type": "display_data"
        },
        {
          "data": {
            "text/markdown": "System of equations:",
            "text/plain": [
              "<IPython.core.display.Markdown object>"
            ]
          },
          "metadata": {},
          "output_type": "display_data"
        },
        {
          "data": {
            "text/markdown": "$$\\begin{aligned} 1 x_{1} + 2 x_{2} - 2 x_{3} = 4 \\\\ 2 x_{1} + 1 x_{2} + 1 x_{3} = 0 \\\\ 3 x_{1} + 2 x_{2} + 1 x_{3} = 1 \\end{aligned}$$",
            "text/plain": [
              "<IPython.core.display.Markdown object>"
            ]
          },
          "metadata": {},
          "output_type": "display_data"
        }
      ],
      "source": [
        "m = SymbolicMatrix([[1,2,-2],\n",
        "                    [2,1,1],\n",
        "                    [3,2,1]], column_labels=[\"x1\", \"x2\", \"x3\"], free_terms=[4, 0, 1], display_mode=\"equations\")\n"
      ]
    },
    {
      "cell_type": "markdown",
      "source": [
        "### The augmented matrix\n",
        "\n",
        "$$\n",
        "\\left[\\begin{array}{ccc|c}\n",
        "1 & 2 & -2 & 4 \\\\\n",
        "2 & 1 & 1 & 0 \\\\\n",
        "3 & 2 & 1 & 1\n",
        "\\end{array}\\right]\n",
        "$$\n",
        "\n",
        "#### Get zeros\n",
        "\n",
        "$$\n",
        "R_2 \\rightarrow R_2 - 2R_1\n",
        "$$\n",
        "\n",
        "$$\n",
        "\\left[\\begin{array}{ccc|c}\n",
        "1 & 2 & -2 & 4 \\\\\n",
        "0 & -3 & 5 & -8 \\\\\n",
        "3 & 2 & 1 & 1\n",
        "\\end{array}\\right]\n",
        "$$\n",
        "\n",
        ".\n",
        "\n",
        "$$\n",
        "R_3 \\rightarrow R_3 - 3R_1\n",
        "$$\n",
        "\n",
        "$$\n",
        "\\left[\\begin{array}{ccc|c}\n",
        "1 & 2 & -2 & 4 \\\\\n",
        "0 & -3 & 5 & -8 \\\\\n",
        "0 & -4 & 7 & -11\n",
        "\\end{array}\\right]\n",
        "$$\n",
        "\n",
        ".\n",
        "\n",
        "$$\n",
        "R_3 \\rightarrow R_3 + \\frac{4}{3}R_2\n",
        "$$\n",
        "\n",
        "$$\n",
        "\\left[\\begin{array}{ccc|c}\n",
        "1 & 2 & -2 & 4 \\\\\n",
        "0 & -3 & 5 & -8 \\\\\n",
        "0 & 0 & \\frac{1}{3} & \\frac{-1}{3}\n",
        "\\end{array}\\right]\n",
        "$$\n"
      ],
      "metadata": {
        "id": "YIMBNcv87I70"
      }
    },
    {
      "cell_type": "code",
      "source": [
        "\n",
        "# Define symbols\n",
        "x1, x2, x3 = symbols('x1 x2 x3')\n",
        "# Define equations\n",
        "eq1 = Eq(x1 + 2*x2 + -2*x3, 4)\n",
        "eq2 = Eq(-3*x2 + 5*x3, -8)\n",
        "eq3 = Eq(1/3*x3, -1/3)"
      ],
      "metadata": {
        "id": "c3mjm3ph0TIS"
      },
      "execution_count": 75,
      "outputs": []
    },
    {
      "cell_type": "code",
      "source": [
        "sol_x3 = sp.solve(eq3, x3)[0]\n",
        "sol_x3"
      ],
      "metadata": {
        "id": "TDVBWlxX0y55",
        "outputId": "a197aa05-50e1-499b-de8d-7b687b52c966",
        "colab": {
          "base_uri": "https://localhost:8080/",
          "height": 37
        }
      },
      "execution_count": 76,
      "outputs": [
        {
          "output_type": "execute_result",
          "data": {
            "text/plain": [
              "-1.00000000000000"
            ],
            "text/latex": "$\\displaystyle -1.0$"
          },
          "metadata": {},
          "execution_count": 76
        }
      ]
    },
    {
      "cell_type": "code",
      "source": [
        "# Substitute solution x3 into equation 2\n",
        "eq2 = eq2.subs(x3, sol_x3)\n",
        "# Solve equation 2\n",
        "sol_x2 = sp.solve(eq2, x2)[0]\n",
        "sol_x2"
      ],
      "metadata": {
        "id": "3caw1BWH04Mf",
        "outputId": "5e652ff6-4252-4994-8147-ee8a9df50ef7",
        "colab": {
          "base_uri": "https://localhost:8080/",
          "height": 37
        }
      },
      "execution_count": 77,
      "outputs": [
        {
          "output_type": "execute_result",
          "data": {
            "text/plain": [
              "1.00000000000000"
            ],
            "text/latex": "$\\displaystyle 1.0$"
          },
          "metadata": {},
          "execution_count": 77
        }
      ]
    },
    {
      "cell_type": "code",
      "execution_count": 78,
      "metadata": {
        "outputId": "34adf398-f445-43ad-95c9-25a540af3c01",
        "colab": {
          "base_uri": "https://localhost:8080/",
          "height": 37
        },
        "id": "slxEmh2e1W3u"
      },
      "outputs": [
        {
          "output_type": "execute_result",
          "data": {
            "text/plain": [
              "0.0"
            ],
            "text/latex": "$\\displaystyle 0.0$"
          },
          "metadata": {},
          "execution_count": 78
        }
      ],
      "source": [
        "# Substitute solutions x3 into equation 1\n",
        "eq1 = eq1.subs({x2: sol_x2, x3: sol_x3})\n",
        "# Solve equation 1\n",
        "sol_x1 = sp.solve(eq1, x1)[0]\n",
        "sol_x1"
      ]
    },
    {
      "cell_type": "code",
      "source": [
        "print(f\"x1 = {sol_x1}\")\n",
        "print(f\"x2 = {sol_x2}\")\n",
        "print(f\"x3 = {sol_x3}\")\n"
      ],
      "metadata": {
        "id": "MQOSP5xh8Rc1",
        "outputId": "7e8a7202-72a3-4dc1-f5ef-6343f4be8eea",
        "colab": {
          "base_uri": "https://localhost:8080/"
        }
      },
      "execution_count": 79,
      "outputs": [
        {
          "output_type": "stream",
          "name": "stdout",
          "text": [
            "x1 = 0.0\n",
            "x2 = 1.00000000000000\n",
            "x3 = -1.00000000000000\n"
          ]
        }
      ]
    },
    {
      "cell_type": "markdown",
      "metadata": {
        "id": "FkEgl55M7Woz"
      },
      "source": []
    },
    {
      "cell_type": "code",
      "source": [
        "m = SymbolicMatrix([[1,1,1,-1],\n",
        "                    [2,1,1,0],\n",
        "                    [-1,0,1,-1],\n",
        "                    [3,1,-1,2]], column_labels=[\"x1\", \"x2\", \"x3\", \"X4\"], free_terms=[2, 3, 0, -1], display_mode=\"equations\")\n"
      ],
      "metadata": {
        "colab": {
          "base_uri": "https://localhost:8080/",
          "height": 177
        },
        "id": "zle3ZEuZ9B77",
        "outputId": "3ec81a7a-87e6-463b-a88b-711bbbf2be12"
      },
      "execution_count": 14,
      "outputs": [
        {
          "data": {
            "text/markdown": "**Initial equations:**",
            "text/plain": [
              "<IPython.core.display.Markdown object>"
            ]
          },
          "metadata": {},
          "output_type": "display_data"
        },
        {
          "data": {
            "text/markdown": "System of equations:",
            "text/plain": [
              "<IPython.core.display.Markdown object>"
            ]
          },
          "metadata": {},
          "output_type": "display_data"
        },
        {
          "data": {
            "text/markdown": "$$\\begin{aligned} 1 x_{1} + 1 x_{2} + 1 x_{3} - 1 X_{4} = 2 \\\\ 2 x_{1} + 1 x_{2} + 1 x_{3} +0 X_{4} = 3 \\\\ - 1 x_{1} +0 x_{2} + 1 x_{3} - 1 X_{4} = 0 \\\\ 3 x_{1} + 1 x_{2} - 1 x_{3} + 2 X_{4} = -1 \\end{aligned}$$",
            "text/plain": [
              "<IPython.core.display.Markdown object>"
            ]
          },
          "metadata": {},
          "output_type": "display_data"
        }
      ]
    },
    {
      "cell_type": "markdown",
      "source": [
        "### The augmented matrix\n",
        "\n",
        "\n",
        "\n",
        "$$\n",
        "\\left[\\begin{array}{cccc|c}\n",
        "1 & 1 & 1 & -1 & 2 \\\\\n",
        "2 & 1 & 1 & 0 & 3 \\\\\n",
        "-1 & 0 & 1 & -1 & 0 \\\\\n",
        "3 & 1 & -1 & 2 & -1\n",
        "\\end{array}\\right]\n",
        "$$\n",
        "\n",
        "#### Get zeros\n",
        "\n",
        "$$\n",
        "R_2 \\rightarrow R_2 - 2R_1\n",
        "$$\n",
        "\n",
        "$$\n",
        "\\left[\\begin{array}{cccc|c}\n",
        "1 & 1 & 1 & -1 & 2 \\\\\n",
        "0 & -1 & -1 & 2 & -1 \\\\\n",
        "-1 & 0 & 1 & -1 & 0 \\\\\n",
        "3 & 1 & -1 & 2 & -1\n",
        "\\end{array}\\right]\n",
        "$$\n",
        "\n",
        ".\n",
        "\n",
        "$$\n",
        "R_3 \\rightarrow R_3 + R_1\n",
        "$$\n",
        "\n",
        "$$\n",
        "\\left[\\begin{array}{cccc|c}\n",
        "1 & 1 & 1 & -1 & 2 \\\\\n",
        "0 & -1 & -1 & 2 & -1 \\\\\n",
        "0 & 1 & 2 & -2 & 2 \\\\\n",
        "3 & 1 & -1 & 2 & -1\n",
        "\\end{array}\\right]\n",
        "$$\n",
        "\n",
        ".\n",
        "\n",
        "$$\n",
        "R_4 \\rightarrow R_4 - 3R_1\n",
        "$$\n",
        "\n",
        "$$\n",
        "\\left[\\begin{array}{cccc|c}\n",
        "1 & 1 & 1 & -1 & 2 \\\\\n",
        "0 & -1 & -1 & 2 & -1 \\\\\n",
        "0 & 1 & 2 & -2 & 2 \\\\\n",
        "0 & -2 & -4 & 5 & -7\n",
        "\\end{array}\\right]\n",
        "$$\n",
        "\n",
        ".\n",
        "\n",
        "$$\n",
        "R_3 \\rightarrow R_3 + R_2\n",
        "$$\n",
        "\n",
        "$$\n",
        "\\left[\\begin{array}{cccc|c}\n",
        "1 & 1 & 1 & -1 & 2 \\\\\n",
        "0 & -1 & -1 & 2 & -1 \\\\\n",
        "0 & 0 & 1 & 0 & 1 \\\\\n",
        "0 & -2 & -4 & 5 & -7\n",
        "\\end{array}\\right]\n",
        "$$\n",
        "\n",
        ".\n",
        "\n",
        "$$\n",
        "R_4 \\rightarrow R_4 + 2R_2\n",
        "$$\n",
        "\n",
        "$$\n",
        "\\left[\\begin{array}{cccc|c}\n",
        "1 & 1 & 1 & -1 & 2 \\\\\n",
        "0 & -1 & -1 & 2 & -1 \\\\\n",
        "0 & 0 & 1 & 0 & 1 \\\\\n",
        "0 & 0 & -2 & 1 & -5\n",
        "\\end{array}\\right]\n",
        "$$\n",
        "\n",
        ".\n",
        "\n",
        "$$\n",
        "R_4 \\rightarrow R_4 + 2R_3\n",
        "$$\n",
        "\n",
        "$$\n",
        "\\left[\\begin{array}{cccc|c}\n",
        "1 & 1 & 1 & -1 & 2 \\\\\n",
        "0 & -1 & -1 & 2 & -1 \\\\\n",
        "0 & 0 & 1 & 0 & 1 \\\\\n",
        "0 & 0 & 0 & 1 & -3\n",
        "\\end{array}\\right]\n",
        "$$\n"
      ],
      "metadata": {
        "id": "-uwGErQE3tPH"
      }
    },
    {
      "cell_type": "code",
      "source": [
        "# Define symbols\n",
        "x1, x2, x3, x4 = symbols('x1 x2 x3 x4')\n",
        "# Define equations\n",
        "eq1 = Eq(x1 + x2 + x3 + -x4, 2)\n",
        "eq2 = Eq(-x2 + -x3 + 2*x4, -1)\n",
        "eq3 = Eq(x3, 1)\n",
        "eq4 = Eq(x4, -3)"
      ],
      "metadata": {
        "id": "hXCIk6hO6Fu1"
      },
      "execution_count": 56,
      "outputs": []
    },
    {
      "cell_type": "code",
      "source": [
        "sol_x4 = sp.solve(eq4, x4)[0]\n",
        "sol_x4"
      ],
      "metadata": {
        "id": "vkJOAcZz6r2u",
        "outputId": "acc5e2f8-078e-49a6-e98f-83be5495fb25",
        "colab": {
          "base_uri": "https://localhost:8080/",
          "height": 37
        }
      },
      "execution_count": 57,
      "outputs": [
        {
          "output_type": "execute_result",
          "data": {
            "text/plain": [
              "-3"
            ],
            "text/latex": "$\\displaystyle -3$"
          },
          "metadata": {},
          "execution_count": 57
        }
      ]
    },
    {
      "cell_type": "code",
      "source": [
        "sol_x3 = sp.solve(eq3, x3)[0]\n",
        "sol_x3"
      ],
      "metadata": {
        "id": "0T_fyILm6lRC",
        "outputId": "197e1429-db87-4513-c31a-42b95fd56df6",
        "colab": {
          "base_uri": "https://localhost:8080/",
          "height": 37
        }
      },
      "execution_count": 58,
      "outputs": [
        {
          "output_type": "execute_result",
          "data": {
            "text/plain": [
              "1"
            ],
            "text/latex": "$\\displaystyle 1$"
          },
          "metadata": {},
          "execution_count": 58
        }
      ]
    },
    {
      "cell_type": "code",
      "source": [
        "# Substitute solution x4 an x3 into equation 2\n",
        "eq2 = eq2.subs({x3: sol_x3, x4: sol_x4})\n",
        "# Solve equation 2\n",
        "sol_x2 = sp.solve(eq2, x2)[0]\n",
        "sol_x2"
      ],
      "metadata": {
        "id": "bTGzuude6_g4",
        "outputId": "dd374075-3c8f-4cf8-e59c-1cd8d81ee4f1",
        "colab": {
          "base_uri": "https://localhost:8080/",
          "height": 37
        }
      },
      "execution_count": 60,
      "outputs": [
        {
          "output_type": "execute_result",
          "data": {
            "text/plain": [
              "-6"
            ],
            "text/latex": "$\\displaystyle -6$"
          },
          "metadata": {},
          "execution_count": 60
        }
      ]
    },
    {
      "cell_type": "code",
      "source": [
        "# Substitute solutions x2, x3 and x4 into equation 1\n",
        "eq1 = eq1.subs({x2: sol_x2, x3: sol_x3, x4: sol_x4})\n",
        "# Solve equation 1\n",
        "sol_x1 = sp.solve(eq1, x1)[0]\n",
        "sol_x1"
      ],
      "metadata": {
        "id": "d92zM71N7Nf6",
        "outputId": "dc02cd5f-4e0b-4dfc-a480-e7254ae84aa8",
        "colab": {
          "base_uri": "https://localhost:8080/",
          "height": 37
        }
      },
      "execution_count": 61,
      "outputs": [
        {
          "output_type": "execute_result",
          "data": {
            "text/plain": [
              "4"
            ],
            "text/latex": "$\\displaystyle 4$"
          },
          "metadata": {},
          "execution_count": 61
        }
      ]
    },
    {
      "cell_type": "code",
      "source": [
        "print(f\"x1 = {sol_x1}\")\n",
        "print(f\"x2 = {sol_x2}\")\n",
        "print(f\"x3 = {sol_x3}\")\n",
        "print(f\"x4 = {sol_x4}\")"
      ],
      "metadata": {
        "id": "rF7MSN_l5kv0",
        "outputId": "c9b68241-4af0-4476-fdc8-acb2dcba0dc2",
        "colab": {
          "base_uri": "https://localhost:8080/"
        }
      },
      "execution_count": 62,
      "outputs": [
        {
          "output_type": "stream",
          "name": "stdout",
          "text": [
            "x1 = 4\n",
            "x2 = -6\n",
            "x3 = 1\n",
            "x4 = -3\n"
          ]
        }
      ]
    },
    {
      "cell_type": "markdown",
      "metadata": {
        "id": "2atiXcxC7Wo0"
      },
      "source": []
    },
    {
      "cell_type": "code",
      "source": [
        "m = SymbolicMatrix([[1,1,-1,-1],\n",
        "                    [2,3,-2,1],\n",
        "                    [3,0,5,0],\n",
        "                    [-1,1,-3,2]], column_labels=[\"x1\", \"x2\", \"x3\", \"X4\"], free_terms=[0, 4, 0, 3], display_mode=\"equations\")\n"
      ],
      "metadata": {
        "outputId": "349b6e44-4412-4c69-f25f-0ffcc036001e",
        "colab": {
          "base_uri": "https://localhost:8080/",
          "height": 177
        },
        "id": "mZu9y24M-q6g"
      },
      "execution_count": 19,
      "outputs": [
        {
          "data": {
            "text/markdown": "**Initial equations:**",
            "text/plain": [
              "<IPython.core.display.Markdown object>"
            ]
          },
          "metadata": {},
          "output_type": "display_data"
        },
        {
          "data": {
            "text/markdown": "System of equations:",
            "text/plain": [
              "<IPython.core.display.Markdown object>"
            ]
          },
          "metadata": {},
          "output_type": "display_data"
        },
        {
          "data": {
            "text/markdown": "$$\\begin{aligned} 1 x_{1} + 1 x_{2} - 1 x_{3} - 1 X_{4} = 0 \\\\ 2 x_{1} + 3 x_{2} - 2 x_{3} + 1 X_{4} = 4 \\\\ 3 x_{1} +0 x_{2} + 5 x_{3} +0 X_{4} = 0 \\\\ - 1 x_{1} + 1 x_{2} - 3 x_{3} + 2 X_{4} = 3 \\end{aligned}$$",
            "text/plain": [
              "<IPython.core.display.Markdown object>"
            ]
          },
          "metadata": {},
          "output_type": "display_data"
        }
      ]
    },
    {
      "cell_type": "markdown",
      "source": [
        "\n",
        "### The augmented matrix\n",
        "\n",
        "$$\n",
        "\\left[\\begin{array}{cccc|c}\n",
        "1 & 1 & -1 & -1 & 0 \\\\\n",
        "2 & 3 & -2 & 1 & 4 \\\\\n",
        "3 & 0 & 5 & 0 & 0 \\\\\n",
        "-1 & 1 & -3 & 2 & 3\n",
        "\\end{array}\\right]\n",
        "$$\n",
        "\n",
        "#### Get zeros\n",
        "\n",
        "\n",
        "  $$\n",
        "   R_2 \\rightarrow R_2 - 2R_1\n",
        "  $$\n",
        "   \n",
        "   $$\n",
        "   \\left[\\begin{array}{cccc|c}\n",
        "   1 & 1 & -1 & -1 & 0 \\\\\n",
        "   0 & 1 & 0 & 3 & 4 \\\\\n",
        "   3 & 0 & 5 & 0 & 0 \\\\\n",
        "   -1 & 1 & -3 & 2 & 3\n",
        "   \\end{array}\\right]\n",
        "   $$\n",
        ".\n",
        "\n",
        "   $$\n",
        "   R_3 \\rightarrow R_3 - 3R_1\n",
        "   $$\n",
        "\n",
        "   $$\n",
        "   \\left[\\begin{array}{cccc|c}\n",
        "   1 & 1 & -1 & -1 & 0 \\\\\n",
        "   0 & 1 & 0 & 3 & 4 \\\\\n",
        "   0 & -3 & 8 & 3 & 0 \\\\\n",
        "   -1 & 1 & -3 & 2 & 3\n",
        "   \\end{array}\\right]\n",
        "   $$\n",
        "\n",
        ".\n",
        "   $$\n",
        "   R_4 \\rightarrow R_4 + R_1\n",
        "   $$\n",
        "\n",
        "   $$\n",
        "   \\left[\\begin{array}{cccc|c}\n",
        "   1 & 1 & -1 & -1 & 0 \\\\\n",
        "   0 & 1 & 0 & 3 & 4 \\\\\n",
        "   0 & -3 & 8 & 3 & 0 \\\\\n",
        "   0 & 2 & -4 & 1 & 3\n",
        "   \\end{array}\\right]\n",
        "   $$\n",
        ".\n",
        "   $$\n",
        "   R_3 \\rightarrow R_3 + 3R_2\n",
        "   $$\n",
        "\n",
        "   $$\n",
        "   \\left[\\begin{array}{cccc|c}\n",
        "   1 & 1 & -1 & -1 & 0 \\\\\n",
        "   0 & 1 & 0 & 3 & 4 \\\\\n",
        "   0 & 0 & 8 & 12 & 12 \\\\\n",
        "   0 & 2 & -4 & 1 & 3\n",
        "   \\end{array}\\right]\n",
        "   $$\n",
        ".\n",
        "   $$\n",
        "   R_4 \\rightarrow R_4 - 2R_2\n",
        "   $$\n",
        "\n",
        "   $$\n",
        "   \\left[\\begin{array}{cccc|c}\n",
        "   1 & 1 & -1 & -1 & 0 \\\\\n",
        "   0 & 1 & 0 & 3 & 4 \\\\\n",
        "   0 & 0 & 8 & 12 & 12 \\\\\n",
        "   0 & 0 & -4 & -5 & -5\n",
        "   \\end{array}\\right]\n",
        "   $$\n",
        ".\n",
        "$$\n",
        "R_4 \\rightarrow R_4 + \\frac{1}{2} R_3\n",
        "$$\n",
        "\n",
        "$$\n",
        "\\left[\\begin{array}{cccc|c}\n",
        "   1 & 1 & -1 & -1 & 0 \\\\\n",
        "   0 & 1 & 0 & 3 & 4 \\\\\n",
        "   0 & 0 & 8 & 12 & 12 \\\\\n",
        "   0 & 0 & 0 & 1 & 1\n",
        "   \\end{array}\\right]\n",
        "$$\n",
        "\n"
      ],
      "metadata": {
        "id": "i_M5yO6R8yfm"
      }
    },
    {
      "cell_type": "code",
      "source": [
        "# Define symbols\n",
        "x1, x2, x3, x4 = symbols('x1 x2 x3 x4')\n",
        "# Define equations\n",
        "eq1 = Eq(x1 + x2 + -x3 + -x4, 0)\n",
        "eq2 = Eq(x2 + 3*x4, 4)\n",
        "eq3 = Eq(8*x3 + 12*x4, 12)\n",
        "eq4 = Eq(x4, 1)"
      ],
      "metadata": {
        "id": "2P2Se2hg_VLw"
      },
      "execution_count": 27,
      "outputs": []
    },
    {
      "cell_type": "code",
      "source": [
        "sol_x4 = sp.solve(eq4, x4)[0]\n",
        "sol_x4"
      ],
      "metadata": {
        "id": "LTsuSOzgBT6M",
        "outputId": "2108a50b-7079-444f-83b4-aff40428e78d",
        "colab": {
          "base_uri": "https://localhost:8080/",
          "height": 37
        }
      },
      "execution_count": 28,
      "outputs": [
        {
          "output_type": "execute_result",
          "data": {
            "text/plain": [
              "1"
            ],
            "text/latex": "$\\displaystyle 1$"
          },
          "metadata": {},
          "execution_count": 28
        }
      ]
    },
    {
      "cell_type": "code",
      "source": [
        "# Substitute solution x4 into equation 2\n",
        "eq3 = eq3.subs(x4, sol_x4)\n",
        "\n",
        "#\n",
        "sol_x3 = sp.solve(eq3, x3)[0]\n",
        "sol_x3"
      ],
      "metadata": {
        "id": "5HO1vGJ4Bxiz",
        "outputId": "da2d238a-137e-4dcd-fa9a-f84a1b47186d",
        "colab": {
          "base_uri": "https://localhost:8080/",
          "height": 37
        }
      },
      "execution_count": 29,
      "outputs": [
        {
          "output_type": "execute_result",
          "data": {
            "text/plain": [
              "0"
            ],
            "text/latex": "$\\displaystyle 0$"
          },
          "metadata": {},
          "execution_count": 29
        }
      ]
    },
    {
      "cell_type": "code",
      "source": [
        "# Substitute solution x4 into equation 2\n",
        "eq2 = eq2.subs(x4, sol_x4)\n",
        "# Solve equation 2\n",
        "sol_x2 = sp.solve(eq2, x2)[0]\n",
        "sol_x2"
      ],
      "metadata": {
        "id": "b_I346wzCF91",
        "outputId": "780db5f3-ecfc-4374-b7e6-03d3a16c5a0f",
        "colab": {
          "base_uri": "https://localhost:8080/",
          "height": 37
        }
      },
      "execution_count": 30,
      "outputs": [
        {
          "output_type": "execute_result",
          "data": {
            "text/plain": [
              "1"
            ],
            "text/latex": "$\\displaystyle 1$"
          },
          "metadata": {},
          "execution_count": 30
        }
      ]
    },
    {
      "cell_type": "code",
      "source": [
        "# Substitute solutions x2, x3 and x4 into equation 1\n",
        "eq1 = eq1.subs({x2: sol_x2, x3: sol_x3, x4: sol_x4})\n",
        "\n",
        "# Solve equation 1\n",
        "sol_x1 = sp.solve(eq1, x1)[0]\n",
        "sol_x1"
      ],
      "metadata": {
        "id": "3yzo7_NzCM93",
        "outputId": "2fcb8243-1263-44fd-9a26-901b6244cfd8",
        "colab": {
          "base_uri": "https://localhost:8080/",
          "height": 37
        }
      },
      "execution_count": 31,
      "outputs": [
        {
          "output_type": "execute_result",
          "data": {
            "text/plain": [
              "0"
            ],
            "text/latex": "$\\displaystyle 0$"
          },
          "metadata": {},
          "execution_count": 31
        }
      ]
    },
    {
      "cell_type": "code",
      "source": [
        "print(f\"x1 = {sol_x1}\")\n",
        "print(f\"x2 = {sol_x2}\")\n",
        "print(f\"x3 = {sol_x3}\")\n",
        "print(f\"x4 = {sol_x4}\")"
      ],
      "metadata": {
        "id": "3gmRnOKex_P3",
        "outputId": "e9ec94c8-0797-4dd6-fc15-a97525b060e5",
        "colab": {
          "base_uri": "https://localhost:8080/"
        }
      },
      "execution_count": 32,
      "outputs": [
        {
          "output_type": "stream",
          "name": "stdout",
          "text": [
            "x1 = 0\n",
            "x2 = 1\n",
            "x3 = 0\n",
            "x4 = 1\n"
          ]
        }
      ]
    }
  ],
  "metadata": {
    "kernelspec": {
      "display_name": ".venv",
      "language": "python",
      "name": "python3"
    },
    "language_info": {
      "codemirror_mode": {
        "name": "ipython",
        "version": 3
      },
      "file_extension": ".py",
      "mimetype": "text/x-python",
      "name": "python",
      "nbconvert_exporter": "python",
      "pygments_lexer": "ipython3",
      "version": "3.11.9"
    },
    "colab": {
      "provenance": []
    }
  },
  "nbformat": 4,
  "nbformat_minor": 0
}